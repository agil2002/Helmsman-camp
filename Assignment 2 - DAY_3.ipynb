{
  "nbformat": 4,
  "nbformat_minor": 0,
  "metadata": {
    "colab": {
      "name": "DAY 3.ipynb",
      "provenance": [],
      "collapsed_sections": [],
      "authorship_tag": "ABX9TyPNEWgNex4baGZ4izdecvu0",
      "include_colab_link": true
    },
    "kernelspec": {
      "name": "python3",
      "display_name": "Python 3"
    }
  },
  "cells": [
    {
      "cell_type": "markdown",
      "metadata": {
        "id": "view-in-github",
        "colab_type": "text"
      },
      "source": [
        "<a href=\"https://colab.research.google.com/github/agil2002/Helmsman-camp/blob/main/Assignment%202%20-%20DAY_3.ipynb\" target=\"_parent\"><img src=\"https://colab.research.google.com/assets/colab-badge.svg\" alt=\"Open In Colab\"/></a>"
      ]
    },
    {
      "cell_type": "markdown",
      "metadata": {
        "id": "XOZGlr5ZNCiG"
      },
      "source": [
        "USING **IF** and **ELSE IF** FOR GRADING BASED ON INPUT FROM USER"
      ]
    },
    {
      "cell_type": "code",
      "metadata": {
        "colab": {
          "base_uri": "https://localhost:8080/"
        },
        "id": "q_gE9-Z8M-Vd",
        "outputId": "f811da44-2b66-4fc3-e8cf-04b1582c54c2"
      },
      "source": [
        "marks = int(input(\"Enter the marks \"))\n",
        "\n",
        "if marks >= 90 : \n",
        "  print(\"The grade is A\")\n",
        "elif marks >= 80 :\n",
        "    print(\"The grade is B\")\n",
        "elif marks >= 70 :\n",
        "  print(\"The grade is C \")\n",
        "elif marks >= 60 :\n",
        "  print(\"the grade is D \")\n",
        "else :\n",
        "    print(\"SORRY! You are failed...\")"
      ],
      "execution_count": null,
      "outputs": [
        {
          "output_type": "stream",
          "text": [
            "Enter the marks 45\n",
            "SORRY! You are failed...\n"
          ],
          "name": "stdout"
        }
      ]
    },
    {
      "cell_type": "markdown",
      "metadata": {
        "id": "5W03NLEROTcv"
      },
      "source": [
        "Extend the username password block to support ***OTP Verification***"
      ]
    },
    {
      "cell_type": "code",
      "metadata": {
        "colab": {
          "base_uri": "https://localhost:8080/"
        },
        "id": "ij4RDSG5O0oS",
        "outputId": "46881ac3-7d21-449b-9fc3-5a1ba0aeb7d1"
      },
      "source": [
        "username = 'ARJUN'\n",
        "password = 'asd*123'\n",
        "OTP = '52ktu3'\n",
        "name = input(\"Enter the UserName : \")\n",
        "userPassword = input(\"Enter your Password : \")\n",
        "if name==username :\n",
        "  if userPassword == password :\n",
        "    i = input(\"Enter your Registered Mobile Number : \")\n",
        "    print(\"You will recieve an OTP to the Number\",i )\n",
        "    pin = input(\"Enter OTP : \")\n",
        "    if pin == OTP :\n",
        "      print(\"ACCESS GRANTED\")\n",
        "      print(\"WELCOME\",username)\n",
        "    else :\n",
        "      print(\"Access Denied\")\n",
        "  else :\n",
        "   print(\"Incorrect Password\")\n",
        "else :\n",
        "  print(\"Incorrect Username \")"
      ],
      "execution_count": null,
      "outputs": [
        {
          "output_type": "stream",
          "text": [
            "Enter the UserName : ARJUN\n",
            "Enter your Password : asd*123\n",
            "Enter your Registered Mobile Number : 6656444252\n",
            "You will recieve an OTP to the Number 6656444252\n",
            "Enter OTP : 52ktu3\n",
            "ACCESS GRANTED\n",
            "WELCOME ARJUN\n"
          ],
          "name": "stdout"
        }
      ]
    },
    {
      "cell_type": "markdown",
      "metadata": {
        "id": "IIc7jg5RRm3O"
      },
      "source": [
        "From a list of marks Print **only Failed Marks**"
      ]
    },
    {
      "cell_type": "code",
      "metadata": {
        "id": "CqcExwf3SN6A"
      },
      "source": [
        "studentMarks ={\n",
        "    \"Arun\" : 89,\n",
        "    \"Anjana\" : 92,\n",
        "    \"Ravi\" : 49,\n",
        "    \"Amal\" : 78,\n",
        "    \"Akash\" : 59,\n",
        "    \"Rose\" : 80\n",
        " }\n",
        " \n",
        " "
      ],
      "execution_count": null,
      "outputs": []
    },
    {
      "cell_type": "code",
      "metadata": {
        "colab": {
          "base_uri": "https://localhost:8080/"
        },
        "id": "1pvWlCpVIAJ8",
        "outputId": "24909eeb-0464-4872-f79e-2fb41c6e4049"
      },
      "source": [
        "for (name,marks) in studentMarks.items():\n",
        "  if marks < 60 :\n",
        "    print(name,\" has failed\")"
      ],
      "execution_count": null,
      "outputs": [
        {
          "output_type": "stream",
          "text": [
            "Ravi  has failed\n",
            "Akash  has failed\n"
          ],
          "name": "stdout"
        }
      ]
    },
    {
      "cell_type": "code",
      "metadata": {
        "id": "IKBn0hORHuZ0"
      },
      "source": [
        ""
      ],
      "execution_count": null,
      "outputs": []
    },
    {
      "cell_type": "markdown",
      "metadata": {
        "id": "IIDA2U4SSrWi"
      },
      "source": [
        "Print **EVEN NUMBERS** between 0 to 10"
      ]
    },
    {
      "cell_type": "code",
      "metadata": {
        "colab": {
          "base_uri": "https://localhost:8080/"
        },
        "id": "8cgqRBgrSyCv",
        "outputId": "b74ac402-4786-4a46-a4ac-0203c8216dc3"
      },
      "source": [
        "for i in range(0,10) :\n",
        "  if i%2 == 0 :\n",
        "   print(i)"
      ],
      "execution_count": null,
      "outputs": [
        {
          "output_type": "stream",
          "text": [
            "0\n",
            "2\n",
            "4\n",
            "6\n",
            "8\n"
          ],
          "name": "stdout"
        }
      ]
    }
  ]
}