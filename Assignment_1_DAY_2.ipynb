{
  "nbformat": 4,
  "nbformat_minor": 0,
  "metadata": {
    "colab": {
      "name": "Assignment 1 - DAY 2.ipynb",
      "provenance": [],
      "collapsed_sections": [],
      "authorship_tag": "ABX9TyMXymguZQxdMM8k/hGD0z7C",
      "include_colab_link": true
    },
    "kernelspec": {
      "name": "python3",
      "display_name": "Python 3"
    }
  },
  "cells": [
    {
      "cell_type": "markdown",
      "metadata": {
        "id": "view-in-github",
        "colab_type": "text"
      },
      "source": [
        "<a href=\"https://colab.research.google.com/github/agil2002/Helmsman-camp/blob/main/Assignment_1_DAY_2.ipynb\" target=\"_parent\"><img src=\"https://colab.research.google.com/assets/colab-badge.svg\" alt=\"Open In Colab\"/></a>"
      ]
    },
    {
      "cell_type": "code",
      "metadata": {
        "id": "wUiiIOgcqrTd",
        "colab": {
          "base_uri": "https://localhost:8080/"
        },
        "outputId": "084dcd8c-9f61-47a6-ded7-f9505df1e343"
      },
      "source": [
        "print(\"WELCOME TO INTRODUCTION TO PYTHON\")"
      ],
      "execution_count": null,
      "outputs": [
        {
          "output_type": "stream",
          "text": [
            "WELCOME TO INTRODUCTION TO PYTHON\n"
          ],
          "name": "stdout"
        }
      ]
    },
    {
      "cell_type": "markdown",
      "metadata": {
        "id": "t59zdkepIW6T"
      },
      "source": [
        "EXPLORING CALCULATIONS "
      ]
    },
    {
      "cell_type": "code",
      "metadata": {
        "colab": {
          "base_uri": "https://localhost:8080/"
        },
        "id": "8Hu50ewwI1_A",
        "outputId": "3b4ab048-4284-444c-9be5-bdf60514effa"
      },
      "source": [
        "3+5"
      ],
      "execution_count": null,
      "outputs": [
        {
          "output_type": "execute_result",
          "data": {
            "text/plain": [
              "8"
            ]
          },
          "metadata": {
            "tags": []
          },
          "execution_count": 2
        }
      ]
    },
    {
      "cell_type": "markdown",
      "metadata": {
        "id": "YH5OcGdRJQcR"
      },
      "source": [
        "**with different functions**"
      ]
    },
    {
      "cell_type": "code",
      "metadata": {
        "colab": {
          "base_uri": "https://localhost:8080/"
        },
        "id": "77XTzDhTI5k2",
        "outputId": "80c698d9-2475-42b6-e112-af43e1568179"
      },
      "source": [
        "print(3+5)\n",
        "print(6-3)\n",
        "print(4*3)\n",
        "print(20/4)"
      ],
      "execution_count": null,
      "outputs": [
        {
          "output_type": "stream",
          "text": [
            "8\n",
            "3\n",
            "12\n"
          ],
          "name": "stdout"
        },
        {
          "output_type": "execute_result",
          "data": {
            "text/plain": [
              "5.0"
            ]
          },
          "metadata": {
            "tags": []
          },
          "execution_count": 4
        }
      ]
    },
    {
      "cell_type": "markdown",
      "metadata": {
        "id": "-W8VaOrSKn8p"
      },
      "source": [
        "Using functions from the **input of users**"
      ]
    },
    {
      "cell_type": "code",
      "metadata": {
        "colab": {
          "base_uri": "https://localhost:8080/",
          "height": 52
        },
        "id": "l_zyAVKJJWya",
        "outputId": "900a27b0-7cba-42f4-dc19-c0982bfd9c5b"
      },
      "source": [
        "input(\"Enter a Number \")"
      ],
      "execution_count": null,
      "outputs": [
        {
          "output_type": "stream",
          "text": [
            "Enter a Number 7\n"
          ],
          "name": "stdout"
        },
        {
          "output_type": "execute_result",
          "data": {
            "application/vnd.google.colaboratory.intrinsic+json": {
              "type": "string"
            },
            "text/plain": [
              "'7'"
            ]
          },
          "metadata": {
            "tags": []
          },
          "execution_count": 29
        }
      ]
    },
    {
      "cell_type": "code",
      "metadata": {
        "colab": {
          "base_uri": "https://localhost:8080/"
        },
        "id": "Mc4KniPtJ-Dm",
        "outputId": "acc3187f-33bc-4818-c162-5aecca92156c"
      },
      "source": [
        "int(input(\"Enter a Number \"))*8"
      ],
      "execution_count": null,
      "outputs": [
        {
          "output_type": "stream",
          "text": [
            "Enter a Number 6\n"
          ],
          "name": "stdout"
        },
        {
          "output_type": "execute_result",
          "data": {
            "text/plain": [
              "48"
            ]
          },
          "metadata": {
            "tags": []
          },
          "execution_count": 31
        }
      ]
    },
    {
      "cell_type": "code",
      "metadata": {
        "colab": {
          "base_uri": "https://localhost:8080/"
        },
        "id": "y3SykYebLdL1",
        "outputId": "b093a15a-11ce-479a-e46f-b6119de3adb0"
      },
      "source": [
        "print(int(input(\"Enter a number to add with 12 :\"))+12)"
      ],
      "execution_count": null,
      "outputs": [
        {
          "output_type": "stream",
          "text": [
            "Enter a number to add with 12 :4\n",
            "16\n"
          ],
          "name": "stdout"
        }
      ]
    },
    {
      "cell_type": "markdown",
      "metadata": {
        "id": "P4eza2EENDLo"
      },
      "source": [
        "**Multiple functions**"
      ]
    },
    {
      "cell_type": "code",
      "metadata": {
        "colab": {
          "base_uri": "https://localhost:8080/"
        },
        "id": "PwRfuw5iNAFh",
        "outputId": "85016e0d-d6cd-4029-d609-068af57aa146"
      },
      "source": [
        "print(int(input(\"Enter a number to add with 12 : \"))+12)\n",
        "print(int(input(\"Enter a Number to reduce 7 : \"))-7)\n",
        "print(int(input(\"Enter a number to get multiplied with 5 : \"))*5)\n",
        "print(int(input(\"Enter a number to divide with 3 : \"))/3)"
      ],
      "execution_count": null,
      "outputs": [
        {
          "output_type": "stream",
          "text": [
            "Enter a number to add with 12 : 6\n",
            "18\n",
            "Enter a Number to reduce 7 : 7\n",
            "0\n",
            "Enter a number to get multiplied with 5 : 9\n",
            "45\n",
            "Enter a number to divide with 3 : 9\n",
            "3.0\n"
          ],
          "name": "stdout"
        }
      ]
    },
    {
      "cell_type": "markdown",
      "metadata": {
        "id": "6URXBwv0QSzr"
      },
      "source": [
        "USING VARIABLES FOR ARITHMETIC OPERATIONS"
      ]
    },
    {
      "cell_type": "code",
      "metadata": {
        "colab": {
          "base_uri": "https://localhost:8080/"
        },
        "id": "0Ku5C4m3VlFx",
        "outputId": "675e13e9-7622-4c8e-9efb-a4aeb88b16a9"
      },
      "source": [
        "x = int(input(\"Enter a number \"))\n",
        "print(\"The Entered Number is \",x)\n",
        "print(x,\"+ 12 = \",x+12)\n",
        "print(x,\"- 3 = \",x-3)\n",
        "print(x,\"× 3 = \",x*3)\n",
        "print(x,\"÷ 2 = \",x/2)"
      ],
      "execution_count": null,
      "outputs": [
        {
          "output_type": "stream",
          "text": [
            "Enter a number 10\n",
            "The Entered Number is  10\n",
            "10 + 12 =  22\n",
            "10 - 3 =  7\n",
            "10 × 3 =  30\n",
            "10 ÷ 2 =  5.0\n"
          ],
          "name": "stdout"
        }
      ]
    },
    {
      "cell_type": "markdown",
      "metadata": {
        "id": "eyJDQPgWW4-a"
      },
      "source": [
        "**ARITHMETIC OPERATIONS WITH VARIABLES**"
      ]
    },
    {
      "cell_type": "code",
      "metadata": {
        "colab": {
          "base_uri": "https://localhost:8080/"
        },
        "id": "97Uv21QkYrVb",
        "outputId": "fec276bd-e9e2-49f0-b460-fe7f5a0208d8"
      },
      "source": [
        "first_number = 25\n",
        "second_number = 15\n",
        "print(\"SUM = \",first_number + second_number)\n",
        "print(\"DIFFERENCE  = \",first_number - second_number)\n",
        "print(\"PRODUCT = \",first_number * second_number)\n",
        "print(\"QUOTIENT = \",first_number / second_number)"
      ],
      "execution_count": null,
      "outputs": [
        {
          "output_type": "stream",
          "text": [
            "SUM =  40\n",
            "DIFFERENCE  =  10\n",
            "PRODUCT =  375\n",
            "QUOTIENT =  1.6666666666666667\n"
          ],
          "name": "stdout"
        }
      ]
    },
    {
      "cell_type": "code",
      "metadata": {
        "colab": {
          "base_uri": "https://localhost:8080/"
        },
        "id": "ids0JYpsM_Yr",
        "outputId": "ef8d2fea-de35-4a7c-cbba-a3458174cce8"
      },
      "source": [
        "print(\"Enter The Number To Get The Sum, Difference, Product and Quotient\")\n",
        "a = int(input(\"Enter the 1st Number : \"))\n",
        "b = int(input(\"Enter the 2nd Number : \"))\n",
        "print(\"Sum = \",a + b)\n",
        "print(\"Difference = \",a-b)\n",
        "print(\"Product = \",a*b)\n",
        "print(\"Quotient = \",a/b)"
      ],
      "execution_count": null,
      "outputs": [
        {
          "output_type": "stream",
          "text": [
            "Enter The Number To Get The Sum, Difference, Product and Quotient\n",
            "Enter the 1st Number : 13\n",
            "Enter the 2nd Number : 12\n",
            "Sum =  25\n",
            "Difference =  1\n",
            "Product =  156\n",
            "Quotient =  1.0833333333333333\n"
          ],
          "name": "stdout"
        }
      ]
    },
    {
      "cell_type": "code",
      "metadata": {
        "id": "nzF9ZTV0TlJx"
      },
      "source": [
        ""
      ],
      "execution_count": null,
      "outputs": []
    }
  ]
}